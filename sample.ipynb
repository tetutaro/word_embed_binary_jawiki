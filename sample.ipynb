{
 "cells": [
  {
   "cell_type": "code",
   "execution_count": 1,
   "metadata": {},
   "outputs": [],
   "source": [
    "%matplotlib inline\n",
    "import matplotlib.pyplot as plt\n",
    "from pylab import *\n",
    "import seaborn as sns\n",
    "sns.set(font=['TakaoPGothic'], font_scale=1.5)\n",
    "import numpy as np\n",
    "import pandas as pd"
   ]
  },
  {
   "cell_type": "code",
   "execution_count": 2,
   "metadata": {},
   "outputs": [
    {
     "name": "stderr",
     "output_type": "stream",
     "text": [
      "unable to import 'smart_open.gcs', disabling that module\n"
     ]
    },
    {
     "data": {
      "text/plain": [
       "array([-0.06707436, -0.1439898 , -0.3072405 , -0.0808397 , -0.19525814,\n",
       "       -0.08541401,  0.04570712,  0.23484659,  0.22350219, -0.34073868],\n",
       "      dtype=float32)"
      ]
     },
     "execution_count": 2,
     "metadata": {},
     "output_type": "execute_result"
    }
   ],
   "source": [
    "from gensim.models.keyedvectors import KeyedVectors\n",
    "\n",
    "# Juman辞書 - fastText の場合\n",
    "ft_wiki_ja = KeyedVectors.load_word2vec_format(\n",
    "    \"models/fasttext_kv_mecab_juman.bin\", binary=True\n",
    ")\n",
    "# 単語のベクトル分散表現\n",
    "ft_wiki_ja['札幌'][:10]"
   ]
  },
  {
   "cell_type": "code",
   "execution_count": 3,
   "metadata": {},
   "outputs": [
    {
     "data": {
      "text/plain": [
       "[('旭川', 0.7631532549858093),\n",
       " ('帯広', 0.7601300477981567),\n",
       " ('北海道', 0.7479938864707947),\n",
       " ('さっぽろ', 0.7366561889648438),\n",
       " ('函館', 0.7320592403411865),\n",
       " ('岩見沢', 0.7065424919128418),\n",
       " ('釧路', 0.688456654548645),\n",
       " ('北見', 0.6775782108306885),\n",
       " ('小樽', 0.6712242364883423),\n",
       " ('室蘭', 0.6643974781036377)]"
      ]
     },
     "execution_count": 3,
     "metadata": {},
     "output_type": "execute_result"
    }
   ],
   "source": [
    "# 近い単語の検索\n",
    "ft_wiki_ja.most_similar(positive=['札幌'], topn=10)"
   ]
  },
  {
   "cell_type": "code",
   "execution_count": 4,
   "metadata": {},
   "outputs": [
    {
     "data": {
      "text/plain": [
       "[('手稲', 0.5967304706573486),\n",
       " ('豊平', 0.5837111473083496),\n",
       " ('さっぽろ', 0.5817066431045532),\n",
       " ('琴似', 0.5333771109580994),\n",
       " ('旭川', 0.526312530040741),\n",
       " ('江別', 0.5070673227310181),\n",
       " ('月寒東', 0.503699779510498),\n",
       " ('真駒内', 0.5027076005935669),\n",
       " ('岩見沢', 0.49218592047691345),\n",
       " ('帯広', 0.4825502932071686)]"
      ]
     },
     "execution_count": 4,
     "metadata": {},
     "output_type": "execute_result"
    }
   ],
   "source": [
    "# 単語の演算\n",
    "ft_wiki_ja.most_similar(positive=['札幌', '厚別'], negative=['十勝'])"
   ]
  },
  {
   "cell_type": "code",
   "execution_count": 5,
   "metadata": {},
   "outputs": [
    {
     "data": {
      "text/plain": [
       "[('お姫様', 0.5677507519721985),\n",
       " ('王女', 0.550416111946106),\n",
       " ('妖精', 0.5275654792785645),\n",
       " ('シンデレラ', 0.5273326635360718),\n",
       " ('美女', 0.5083982944488525),\n",
       " ('マレフィセント', 0.5081546306610107),\n",
       " ('彼女', 0.49821075797080994),\n",
       " ('おうさま', 0.4957883954048157),\n",
       " ('あなた', 0.48544585704803467),\n",
       " ('マダム', 0.4771532118320465)]"
      ]
     },
     "execution_count": 5,
     "metadata": {},
     "output_type": "execute_result"
    }
   ],
   "source": [
    "# 単語の演算（有名な例）\n",
    "ft_wiki_ja.most_similar(positive=['王様', '女性'], negative=['男性'])"
   ]
  },
  {
   "cell_type": "code",
   "execution_count": 6,
   "metadata": {},
   "outputs": [
    {
     "data": {
      "text/plain": [
       "array([-0.22570767, -0.3509212 ,  0.411973  , -0.04088624,  2.1748986 ,\n",
       "        0.60403514,  0.0881071 , -3.1477458 ,  0.35331565,  0.64761937],\n",
       "      dtype=float32)"
      ]
     },
     "execution_count": 6,
     "metadata": {},
     "output_type": "execute_result"
    }
   ],
   "source": [
    "# IPA NEologd辞書 - Word2vec の場合\n",
    "wv_wiki_ja = KeyedVectors.load_word2vec_format(\n",
    "    \"models/word2vec_kv_mecab_neologd.bin\", binary=True\n",
    ")\n",
    "wv_wiki_ja[\"札幌\"][:10]"
   ]
  },
  {
   "cell_type": "code",
   "execution_count": 7,
   "metadata": {},
   "outputs": [
    {
     "data": {
      "text/plain": [
       "[('函館', 0.7508053779602051),\n",
       " ('帯広', 0.7420731782913208),\n",
       " ('仙台', 0.7314366698265076),\n",
       " ('旭川', 0.7257379293441772),\n",
       " ('小樽', 0.7147693037986755),\n",
       " ('新潟', 0.7036173343658447),\n",
       " ('青森', 0.6948322057723999),\n",
       " ('名古屋', 0.6831820011138916),\n",
       " ('札幌市', 0.6815638542175293),\n",
       " ('東京', 0.6782435774803162)]"
      ]
     },
     "execution_count": 7,
     "metadata": {},
     "output_type": "execute_result"
    }
   ],
   "source": [
    "# 近い単語の検索\n",
    "wv_wiki_ja.most_similar(positive=['札幌'], topn=10)"
   ]
  },
  {
   "cell_type": "code",
   "execution_count": 8,
   "metadata": {},
   "outputs": [
    {
     "data": {
      "text/plain": [
       "[('発寒', 0.5741363763809204),\n",
       " ('北広島', 0.5616424083709717),\n",
       " ('琴似', 0.5586565732955933),\n",
       " ('月寒', 0.5561486482620239),\n",
       " ('江別', 0.5515952110290527),\n",
       " ('仙台', 0.5358458757400513),\n",
       " ('鶴舞', 0.5344759225845337),\n",
       " ('国分町', 0.5339557528495789),\n",
       " ('真駒内', 0.5337808132171631),\n",
       " ('恵庭', 0.5317757725715637)]"
      ]
     },
     "execution_count": 8,
     "metadata": {},
     "output_type": "execute_result"
    }
   ],
   "source": [
    "# 単語の演算\n",
    "wv_wiki_ja.most_similar(positive=['札幌', '厚別'], negative=['十勝'])"
   ]
  },
  {
   "cell_type": "code",
   "execution_count": 9,
   "metadata": {},
   "outputs": [
    {
     "data": {
      "text/plain": [
       "[('お姫様', 0.6098473072052002),\n",
       " ('貴婦人', 0.5840033888816833),\n",
       " ('王さま', 0.5678306818008423),\n",
       " ('妖精', 0.5556716918945312),\n",
       " ('ワシリーサ', 0.550856351852417),\n",
       " ('女王', 0.5446532964706421),\n",
       " ('ハートの女王', 0.5432717204093933),\n",
       " ('彼女', 0.5366090536117554),\n",
       " ('神様', 0.5312635898590088),\n",
       " ('ラプンツェル', 0.5308132171630859)]"
      ]
     },
     "execution_count": 9,
     "metadata": {},
     "output_type": "execute_result"
    }
   ],
   "source": [
    "# 単語の演算（有名な例）\n",
    "wv_wiki_ja.most_similar(positive=['王様', '女性'], negative=['男性'])"
   ]
  }
 ],
 "metadata": {
  "kernelspec": {
   "display_name": "Python 3",
   "language": "python",
   "name": "python3"
  },
  "language_info": {
   "codemirror_mode": {
    "name": "ipython",
    "version": 3
   },
   "file_extension": ".py",
   "mimetype": "text/x-python",
   "name": "python",
   "nbconvert_exporter": "python",
   "pygments_lexer": "ipython3",
   "version": "3.8.2"
  }
 },
 "nbformat": 4,
 "nbformat_minor": 4
}
